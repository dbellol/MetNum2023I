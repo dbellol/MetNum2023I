{
  "nbformat": 4,
  "nbformat_minor": 0,
  "metadata": {
    "colab": {
      "provenance": []
    },
    "kernelspec": {
      "name": "python3",
      "display_name": "Python 3"
    },
    "language_info": {
      "name": "python"
    }
  },
  "cells": [
    {
      "cell_type": "markdown",
      "source": [
        "link: https://www.linkedin.com/in/diana-marcela-6619b2183/\n",
        "No hice los posts pero en Licencias y certificaciones aparece :D"
      ],
      "metadata": {
        "id": "pCyZ-FjjXy_J"
      }
    }
  ]
}